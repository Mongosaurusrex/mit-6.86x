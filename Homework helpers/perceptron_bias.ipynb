{
 "cells": [
  {
   "cell_type": "code",
   "execution_count": 5,
   "metadata": {},
   "outputs": [],
   "source": [
    "import numpy as np\n",
    "\n",
    "\n",
    "def perceptron_with_bias(data_points, labels, max_passes=10):\n",
    "    X = np.array(data_points)\n",
    "    y = np.array(labels)\n",
    "\n",
    "    theta = np.zeros(2)\n",
    "    theta_0 = 0.0\n",
    "    progression = []\n",
    "\n",
    "    for _ in range(max_passes):\n",
    "        mistake_made = False \n",
    "        for i in range(len(X)):\n",
    "            if y[i] * (np.dot(theta, X[i]) + theta_0) <= 0:\n",
    "                theta += y[i] * X[i]\n",
    "                theta_0 += y[i]\n",
    "                progression.append(theta.copy())\n",
    "                mistake_made = True\n",
    "\n",
    "        if not mistake_made:\n",
    "            break\n",
    "\n",
    "    return theta.tolist(), theta_0, progression"
   ]
  },
  {
   "cell_type": "code",
   "execution_count": 6,
   "metadata": {},
   "outputs": [
    {
     "data": {
      "text/plain": [
       "([-3.0, 3.0],\n",
       " np.float64(-3.0),\n",
       " [array([-4.,  2.]),\n",
       "  array([-3.,  3.]),\n",
       "  array([-5.,  1.]),\n",
       "  array([-4.,  2.]),\n",
       "  array([-3.,  3.])])"
      ]
     },
     "execution_count": 6,
     "metadata": {},
     "output_type": "execute_result"
    }
   ],
   "source": [
    "data_points = [[-4, 2], [-2, 1], [-1, -1], [2, 2], [1, -2]]\n",
    "labels = [1, 1, -1, -1, -1]\n",
    "\n",
    "final_theta, final_theta_0, progression = perceptron_with_bias(data_points, labels)\n",
    "final_theta, final_theta_0, progression"
   ]
  }
 ],
 "metadata": {
  "kernelspec": {
   "display_name": "6.86x",
   "language": "python",
   "name": "python3"
  },
  "language_info": {
   "codemirror_mode": {
    "name": "ipython",
    "version": 3
   },
   "file_extension": ".py",
   "mimetype": "text/x-python",
   "name": "python",
   "nbconvert_exporter": "python",
   "pygments_lexer": "ipython3",
   "version": "3.11.11"
  }
 },
 "nbformat": 4,
 "nbformat_minor": 2
}
