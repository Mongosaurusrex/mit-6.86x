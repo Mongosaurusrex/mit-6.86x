{
 "cells": [
  {
   "cell_type": "code",
   "execution_count": 1,
   "metadata": {},
   "outputs": [],
   "source": [
    "import numpy as np\n",
    "\n",
    "\n",
    "def perceptron_algorithm(data_points, labels):\n",
    "    X = np.array(data_points)\n",
    "    y = np.array(labels)\n",
    "\n",
    "    theta = np.zeros(2)\n",
    "    progression = []\n",
    "    mistakes = 0\n",
    "\n",
    "    while True:\n",
    "        mistake_made = False\n",
    "        for i in range(len(X)):\n",
    "            if y[i] * np.dot(theta, X[i]) <= 0:\n",
    "                theta += y[i] * X[i]\n",
    "                progression.append(theta.copy())\n",
    "                mistakes += 1\n",
    "                mistake_made = True\n",
    "\n",
    "        if not mistake_made:\n",
    "            break\n",
    "\n",
    "    return progression, mistakes"
   ]
  },
  {
   "cell_type": "code",
   "execution_count": 2,
   "metadata": {},
   "outputs": [
    {
     "name": "stdout",
     "output_type": "stream",
     "text": [
      "Progression of theta: [array([-1., -1.]), array([-2. ,  0.5])]\n",
      "Number of mistakes: 2\n"
     ]
    }
   ],
   "source": [
    "data_points = [[-1, -1], [1, 0], [-1, 1.5]]\n",
    "labels = [1, -1, 1]\n",
    "\n",
    "progression, mistakes = perceptron_algorithm(data_points, labels)\n",
    "print(\"Progression of theta:\", progression)\n",
    "print(\"Number of mistakes:\", mistakes)"
   ]
  },
  {
   "cell_type": "code",
   "execution_count": 3,
   "metadata": {},
   "outputs": [
    {
     "name": "stdout",
     "output_type": "stream",
     "text": [
      "Progression of theta: [array([-1.,  0.])]\n",
      "Number of mistakes: 1\n"
     ]
    }
   ],
   "source": [
    "data_points = [[1, 0], [-1, 1.5], [-1, -1]]\n",
    "labels = [-1, 1, 1]\n",
    "\n",
    "progression, mistakes = perceptron_algorithm(data_points, labels)\n",
    "print(\"Progression of theta:\", progression)\n",
    "print(\"Number of mistakes:\", mistakes)"
   ]
  },
  {
   "cell_type": "code",
   "execution_count": 4,
   "metadata": {},
   "outputs": [
    {
     "name": "stdout",
     "output_type": "stream",
     "text": [
      "Progression of theta: [array([-1., -1.]), array([-2.,  9.]), array([-3.,  8.]), array([-4.,  7.]), array([-5.,  6.]), array([-6.,  5.])]\n",
      "Number of mistakes: 6\n"
     ]
    }
   ],
   "source": [
    "data_points = [[-1, -1], [1, 0], [-1, 10]]\n",
    "labels = [1, -1, 1]\n",
    "\n",
    "progression, mistakes = perceptron_algorithm(data_points, labels)\n",
    "print(\"Progression of theta:\", progression)\n",
    "print(\"Number of mistakes:\", mistakes)"
   ]
  },
  {
   "cell_type": "code",
   "execution_count": 5,
   "metadata": {},
   "outputs": [
    {
     "name": "stdout",
     "output_type": "stream",
     "text": [
      "Progression of theta: [array([-1.,  0.])]\n",
      "Number of mistakes: 1\n"
     ]
    }
   ],
   "source": [
    "data_points = [ [1, 0], [-1, 10], [-1, -1]]\n",
    "labels = [-1, 1, 1]\n",
    "\n",
    "progression, mistakes = perceptron_algorithm(data_points, labels)\n",
    "print(\"Progression of theta:\", progression)\n",
    "print(\"Number of mistakes:\", mistakes)"
   ]
  }
 ],
 "metadata": {
  "kernelspec": {
   "display_name": "6.86x",
   "language": "python",
   "name": "python3"
  },
  "language_info": {
   "codemirror_mode": {
    "name": "ipython",
    "version": 3
   },
   "file_extension": ".py",
   "mimetype": "text/x-python",
   "name": "python",
   "nbconvert_exporter": "python",
   "pygments_lexer": "ipython3",
   "version": "3.11.11"
  }
 },
 "nbformat": 4,
 "nbformat_minor": 2
}
