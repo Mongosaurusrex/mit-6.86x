{
 "cells": [
  {
   "cell_type": "code",
   "execution_count": 6,
   "metadata": {},
   "outputs": [
    {
     "name": "stdout",
     "output_type": "stream",
     "text": [
      "update\n",
      "update\n",
      "update\n",
      "Final theta: [-1.  1. -1.]\n"
     ]
    }
   ],
   "source": [
    "import numpy as np\n",
    "\n",
    "d = 3 \n",
    "n = d   \n",
    "\n",
    "\n",
    "X = np.zeros((d, d))\n",
    "y = np.ones(d)  \n",
    "\n",
    "\n",
    "for t in range(d):\n",
    "    X[t, t] = np.cos(np.pi * (t + 1))  #\n",
    "\n",
    "\n",
    "theta = np.zeros(d)\n",
    "def perceptron(X, y, theta, max_iter=100):\n",
    "    for _ in range(max_iter):\n",
    "        for t in range(n):\n",
    "            if y[t] * np.dot(theta, X[t]) <= 0:  \n",
    "                print(\"update\")\n",
    "                theta += y[t] * X[t]  \n",
    "    return theta\n",
    "\n",
    "theta_final = perceptron(X, y, theta)\n",
    "\n",
    "print(\"Final theta:\", theta_final)"
   ]
  }
 ],
 "metadata": {
  "kernelspec": {
   "display_name": "6.86x",
   "language": "python",
   "name": "python3"
  },
  "language_info": {
   "codemirror_mode": {
    "name": "ipython",
    "version": 3
   },
   "file_extension": ".py",
   "mimetype": "text/x-python",
   "name": "python",
   "nbconvert_exporter": "python",
   "pygments_lexer": "ipython3",
   "version": "3.11.11"
  }
 },
 "nbformat": 4,
 "nbformat_minor": 2
}
