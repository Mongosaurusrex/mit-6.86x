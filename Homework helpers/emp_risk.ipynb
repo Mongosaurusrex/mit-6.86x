{
 "cells": [
  {
   "cell_type": "code",
   "execution_count": 9,
   "metadata": {},
   "outputs": [],
   "source": [
    "import numpy as np"
   ]
  },
  {
   "cell_type": "code",
   "execution_count": 10,
   "metadata": {},
   "outputs": [],
   "source": [
    "examples = [\n",
    "    (np.array([[1], [0], [1]]), 2),\n",
    "    (np.array([[1], [1], [1]]), 2.7),\n",
    "    (np.array([[1], [1], [-1]]), -0.7),\n",
    "    (np.array([[-1], [1], [1]]), 2),\n",
    "]\n",
    "\n",
    "theta = np.array([[0], [1], [2]])"
   ]
  },
  {
   "cell_type": "code",
   "execution_count": 11,
   "metadata": {},
   "outputs": [
    {
     "name": "stdout",
     "output_type": "stream",
     "text": [
      "Empirical loss (hinge): 1.25\n"
     ]
    }
   ],
   "source": [
    "empirical_loss = 0\n",
    "\n",
    "for x_i, y_i in examples:\n",
    "    z = y_i - (theta.T @ x_i).item()\n",
    "    hinge_loss = max(0, 1 - z) \n",
    "    empirical_loss += hinge_loss\n",
    "\n",
    "print(f\"Empirical loss (hinge): {empirical_loss / len(examples)}\") "
   ]
  },
  {
   "cell_type": "code",
   "execution_count": 14,
   "metadata": {},
   "outputs": [
    {
     "name": "stdout",
     "output_type": "stream",
     "text": [
      "Empirical loss (MSE): 0.1475\n"
     ]
    }
   ],
   "source": [
    "empirical_loss = 0\n",
    "\n",
    "for x_i, y_i in examples:\n",
    "    z = y_i - (theta.T @ x_i).item()\n",
    "    empirical_loss += (z**2)/2\n",
    "\n",
    "print(f\"Empirical loss (MSE): {empirical_loss / len(examples)}\") "
   ]
  }
 ],
 "metadata": {
  "kernelspec": {
   "display_name": "6.86x",
   "language": "python",
   "name": "python3"
  },
  "language_info": {
   "codemirror_mode": {
    "name": "ipython",
    "version": 3
   },
   "file_extension": ".py",
   "mimetype": "text/x-python",
   "name": "python",
   "nbconvert_exporter": "python",
   "pygments_lexer": "ipython3",
   "version": "3.11.11"
  }
 },
 "nbformat": 4,
 "nbformat_minor": 2
}
